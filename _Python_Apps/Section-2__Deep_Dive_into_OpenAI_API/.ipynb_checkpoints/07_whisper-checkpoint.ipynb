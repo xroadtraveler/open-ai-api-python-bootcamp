{
 "cells": [
  {
   "cell_type": "code",
   "execution_count": 1,
   "id": "41e4f0f2",
   "metadata": {},
   "outputs": [
    {
     "name": "stdout",
     "output_type": "stream",
     "text": [
      "{\n",
      "  \"text\": \"On a cobweb, afternoon in a room Full of emptiness by a freeway I confess I was lost in the pages Of a book full of death's reading I will die alone and if we're good We'll lay to rest anywhere we wanna go In your house I long to be Room by room patiently I'll wait for you there like a stone I'll wait for you there alone And on my deathbed I will pray to the gods And the angels like a pagan To anyone who will take me to heaven To a place I recall I was there so long ago The sky was bruised, the wine was bled And there you led me on In your house I long to be Room by room patiently I'll wait for you there like a stone I'll wait for you there alone I'll wait for you there like a stone I'll wait for you there alone And on I read until the day was gone And I sat in regret of all the things I've done For all that I've blessed and all that I've wronged And dreams until my death I will wander on In your house I long to be Room by room patiently I'll wait for you there like a stone I'll wait for you there alone Thanks for watching!\"\n",
      "}\n"
     ]
    }
   ],
   "source": [
    "import openai\n",
    "import os\n",
    "\n",
    "openai.api_key = os.getenv('OPENAI_CLASS_API_KEY')\n",
    "\n",
    "with open('05 Like a Stone.mp3', 'rb') as audio_file:\n",
    "    transcript = openai.Audio.transcribe('whisper-1', audio_file)\n",
    "    print(transcript)\n",
    "    audio_file.close()"
   ]
  },
  {
   "cell_type": "code",
   "execution_count": null,
   "id": "9b98d283",
   "metadata": {},
   "outputs": [],
   "source": []
  },
  {
   "cell_type": "code",
   "execution_count": 3,
   "id": "0778e992",
   "metadata": {},
   "outputs": [
    {
     "name": "stdout",
     "output_type": "stream",
     "text": [
      "[♪ Music begins playing ♪ [♪ Music continues playing ♪ [♪ Music continues playing ♪ [♪ Music continues playing ♪ [♪ Music continues playing ♪ [♪ Music continues playing ♪ [♪ Music continues playing ♪ [♪ Music continues playing ♪ [♪ Music continues playing ♪ [♪ Music continues playing ♪ [♪ Music continues playing ♪ [♪ Music continues playing ♪ ♪ [♪ Music continues playing ♪ [♪ Music continues playing ♪ [♪ Music continues playing ♪ [♪ Music continues playing ♪ [♪ Music continues playing ♪ [♪ Music continues playing ♪ [♪ Music continues playing ♪ [♪ Music continues playing ♪ [♪ Music continues playing ♪ [♪ Music continues playing ♪ [♪ Music continues playing ♪ [♪ Music continues playing ♪ [♪ Music continues playing ♪ [♪ Music continues playing ♪ [♪ Music continues playing ♪ [♪ Music continues playing ♪ [♪ Music continues playing ♪ [♪ Music continues playing ♪ [♪ Music continues playing♪ [♪ Music continues playing ♪ [♪ Music continues playing ♪ [♪ Music continues playing ♪ [♪ Music continues playing ♪ [♪ Music continues playing ♪ [♪ Music continues playing ♪ [♪ Music continues playing ♪ [♪ Music continues playing ♪ [♪ Music continues playing ♪ [♪ Music continues playing ♪ [♪ Music continues playing ♪ [♪ Music continues playing ♪ [♪ Music continues playing ♪ [♪ Music continues playing ♪ [♪ Music continues playing ♪ [♪ Music continues playing ♪ [♪ Music continues playing ♪ [♪ Music continues playing ♪ ♬ [♪ Music continues playing ♪ [♪ Music continues playing ♪ [♪ Music continues playing ♪ [♪ Music continues playing ♪ [♪ Music continues playing ♪ [♪ Music continues playing ♪ [♪ Music continues playing ♪ [♪ Music continues playing ♪ [♪ Music continues playing ♪ [♪ Music continues playing ♪ [♪ Music continues playing ♪ [♪ Music continues playing ♪ [♪ Music continues playing ♪ [♪ Music continues playing ♪ [♪ Music continues playing ♪ [♪ Music continues playing ♪ [♪ Music continues playing ♪ [♪ Music continues playing ♪ [♪ Music continues playing ♪ [♪ Music continues playing ♪ [♪ Music continues playing ♪ [♪ Music continues playing ♪ [♪ Music continues playing ♪ [♪ Music continues playing ♪ [♪ Music continues playing ♪ [♪ Music continues playing ♪ [♪ Music continues playing ♪ [♪ Music continues playing ♪ [♪ Music continues playing ♪ [♪ Music continues playing ♪ [♪ Music continues playing ♪ [♪ Music continues playing ♪ [♪ Music continues playing ♪ [♪ Music continues playing ♪ [♪ Music continues playing ♪ [♪ Music continues playing ♪ [♪ Music continues playing ♪ [♪ Music continues playing ♪ [♪ Music fades out ♪ [♪ Music fades out ♪\n"
     ]
    }
   ],
   "source": [
    "audio_file = open('12 Primavera.mp3', 'rb')\n",
    "transcript = openai.Audio.translate('whisper-1', audio_file)\n",
    "print(transcript['text'])\n",
    "audio_file.close()"
   ]
  },
  {
   "cell_type": "code",
   "execution_count": null,
   "id": "afb085c0",
   "metadata": {},
   "outputs": [],
   "source": []
  }
 ],
 "metadata": {
  "kernelspec": {
   "display_name": "Python 3 (ipykernel)",
   "language": "python",
   "name": "python3"
  },
  "language_info": {
   "codemirror_mode": {
    "name": "ipython",
    "version": 3
   },
   "file_extension": ".py",
   "mimetype": "text/x-python",
   "name": "python",
   "nbconvert_exporter": "python",
   "pygments_lexer": "ipython3",
   "version": "3.10.5"
  }
 },
 "nbformat": 4,
 "nbformat_minor": 5
}
