{
 "cells": [
  {
   "cell_type": "code",
   "execution_count": 1,
   "id": "3fd6f081",
   "metadata": {},
   "outputs": [],
   "source": [
    "import openai\n",
    "import os"
   ]
  },
  {
   "cell_type": "code",
   "execution_count": 2,
   "id": "428a3d56",
   "metadata": {},
   "outputs": [],
   "source": [
    "\"\"\"\n",
    "with open('key.txt', 'r') as f:\n",
    "    api_key = f.read().strip('\\n')\n",
    "    assert api_key.startswith('sk-'), 'Error loading the API key. The API key starts with \"sk-\"'\n",
    "openai.api_key = api_key\n",
    "\"\"\"\n",
    "\n",
    "openai.api_key = os.getenv('OPENAI_CLASS_API_KEY')"
   ]
  },
  {
   "cell_type": "code",
   "execution_count": null,
   "id": "acaa5d78",
   "metadata": {},
   "outputs": [],
   "source": [
    "def gpt_classify_sentiment(prompt, emotions):\n",
    "    system_prompt = f'''You are an emotionally intelligent assistant.\n",
    "    Classify the sentiment of the user's text with ONLY ONE OF THE FOLLOWING EMOTIONS: {emotions}.\n",
    "    After classifying the text, respond with the emotion ONLY.\n",
    "    '''\n",
    "    \n",
    "    response = openai.ChatCompletion.create(\n",
    "        model='gpt-3.5-turbo',\n",
    "        messages=[\n",
    "            {'role': 'system', 'content': system_prompt},\n",
    "            {'role': 'user', 'content': prompt}\n",
    "        ],\n",
    "        max_tokens=20,\n",
    "        temperature=0\n",
    "    )\n",
    "    \n",
    "    r = response['choices'][0].message.content\n",
    "    if r == '':\n",
    "        r = 'N/A'\n",
    "        \n",
    "    return r"
   ]
  },
  {
   "cell_type": "code",
   "execution_count": null,
   "id": "415bdb99",
   "metadata": {},
   "outputs": [],
   "source": []
  }
 ],
 "metadata": {
  "kernelspec": {
   "display_name": "Python 3 (ipykernel)",
   "language": "python",
   "name": "python3"
  },
  "language_info": {
   "codemirror_mode": {
    "name": "ipython",
    "version": 3
   },
   "file_extension": ".py",
   "mimetype": "text/x-python",
   "name": "python",
   "nbconvert_exporter": "python",
   "pygments_lexer": "ipython3",
   "version": "3.10.5"
  }
 },
 "nbformat": 4,
 "nbformat_minor": 5
}
