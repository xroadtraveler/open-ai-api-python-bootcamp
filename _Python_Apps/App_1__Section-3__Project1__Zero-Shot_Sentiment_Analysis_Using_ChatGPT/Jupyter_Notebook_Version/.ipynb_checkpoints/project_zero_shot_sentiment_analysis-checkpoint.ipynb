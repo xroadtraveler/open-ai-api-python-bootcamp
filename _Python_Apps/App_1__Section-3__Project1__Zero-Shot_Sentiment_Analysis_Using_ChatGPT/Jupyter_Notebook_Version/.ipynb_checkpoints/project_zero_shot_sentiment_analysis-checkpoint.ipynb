{
 "cells": [
  {
   "cell_type": "code",
   "execution_count": 4,
   "id": "3fd6f081",
   "metadata": {},
   "outputs": [],
   "source": [
    "import openai\n",
    "import os"
   ]
  },
  {
   "cell_type": "code",
   "execution_count": 5,
   "id": "428a3d56",
   "metadata": {},
   "outputs": [],
   "source": [
    "\"\"\"\n",
    "with open('key.txt', 'r') as f:\n",
    "    api_key = f.read().strip('\\n')\n",
    "    assert api_key.startswith('sk-'), 'Error loading the API key. The API key starts with \"sk-\"'\n",
    "openai.api_key = api_key\n",
    "\"\"\"\n",
    "\n",
    "openai.api_key = os.getenv('OPENAI_CLASS_API_KEY')"
   ]
  },
  {
   "cell_type": "code",
   "execution_count": 6,
   "id": "acaa5d78",
   "metadata": {},
   "outputs": [],
   "source": [
    "def gpt_classify_sentiment(prompt, emotions):\n",
    "    system_prompt = f'''You are an emotionally intelligent assistant.\n",
    "    Classify the sentiment of the user's text with ONLY ONE OF THE FOLLOWING EMOTIONS: {emotions}.\n",
    "    After classifying the text, respond with the emotion ONLY.\n",
    "    '''\n",
    "    \n",
    "    response = openai.ChatCompletion.create(\n",
    "        model='gpt-3.5-turbo',\n",
    "        messages=[\n",
    "            {'role': 'system', 'content': system_prompt},\n",
    "            {'role': 'user', 'content': prompt}\n",
    "        ],\n",
    "        max_tokens=20,\n",
    "        temperature=0\n",
    "    )\n",
    "    \n",
    "    r = response['choices'][0].message.content\n",
    "    if r == '':\n",
    "        r = 'N/A'\n",
    "        \n",
    "    return r"
   ]
  },
  {
   "cell_type": "code",
   "execution_count": 7,
   "id": "415bdb99",
   "metadata": {},
   "outputs": [
    {
     "name": "stdout",
     "output_type": "stream",
     "text": [
      "negative\n"
     ]
    }
   ],
   "source": [
    "emotions = 'positive, negative'\n",
    "prompt = 'AI will take over the world.'\n",
    "\n",
    "print(gpt_classify_sentiment(prompt, emotions))"
   ]
  },
  {
   "cell_type": "code",
   "execution_count": 11,
   "id": "01c7a43e",
   "metadata": {},
   "outputs": [
    {
     "name": "stdout",
     "output_type": "stream",
     "text": [
      "very sad\n"
     ]
    }
   ],
   "source": [
    "emotions = \"happy, sad, angry, mad, tired, very happy, very sad, very angry, very tired, very mad\"\n",
    "prompt = 'I lost my phone.'\n",
    "\n",
    "print(gpt_classify_sentiment(prompt, emotions))"
   ]
  },
  {
   "cell_type": "code",
   "execution_count": 18,
   "id": "097d25fa",
   "metadata": {},
   "outputs": [
    {
     "name": "stdout",
     "output_type": "stream",
     "text": [
      "very mad\n"
     ]
    }
   ],
   "source": [
    "emotions = \"happy, sad, angry, mad, tired, very happy, very sad, very angry, very tired, very mad\"\n",
    "prompt = 'AI will take over the world and destroy the human race.'\n",
    "prompt = 'I am going to sleep.'\n",
    "prompt = \"Let's take a break! I can't do it anymore!\"\n",
    "prompt = 'The company CEO just missed out a $10 million bonus, but he still got a raise.'\n",
    "prompt = '😀'\n",
    "prompt = 'ಠ_ಠ'\n",
    "prompt = '😠'\n",
    "\n",
    "print(gpt_classify_sentiment(prompt, emotions))"
   ]
  },
  {
   "cell_type": "code",
   "execution_count": 19,
   "id": "828b8072",
   "metadata": {},
   "outputs": [
    {
     "name": "stdout",
     "output_type": "stream",
     "text": [
      "Super explanation with all the important things yo ... ======> POSITIVE\n"
     ]
    }
   ],
   "source": [
    "emotions = 'positive, negative'\n",
    "review = '''Super explanation with all the important things you have to know in Python.\n",
    "The course has a lot of examples and exercises.\n",
    "Part 2 contains a lot of Python projects and shows you how to use Python in real-world scenarios.\n",
    "'''\n",
    "emotion = gpt_classify_sentiment(review, emotions)\n",
    "print(f'{review[:50]} ... ======> {emotion.upper()}')"
   ]
  },
  {
   "cell_type": "code",
   "execution_count": 20,
   "id": "947ed171",
   "metadata": {},
   "outputs": [
    {
     "name": "stdout",
     "output_type": "stream",
     "text": [
      "This wasn't a good match for me and doesn't fit my ... ======> NEGATIVE\n"
     ]
    }
   ],
   "source": [
    "emotions = 'positive, negative'\n",
    "review = '''This wasn't a good match for me and doesn't fit my learning style.'''\n",
    "emotion = gpt_classify_sentiment(review, emotions)\n",
    "print(f'{review[:50]} ... ======> {emotion.upper()}')"
   ]
  },
  {
   "cell_type": "code",
   "execution_count": 29,
   "id": "6dc7f97d",
   "metadata": {},
   "outputs": [
    {
     "name": "stdout",
     "output_type": "stream",
     "text": [
      "The moon landings were all faked. ====> FALSE\n",
      "The earth is flat. ====> FALSE\n",
      "Elvis Presley died in 1977. ====> TRUE\n",
      "Quantum entanglement has been experimentally demonstrated with photons, electrons, and other particles. ====> TRUE\n"
     ]
    }
   ],
   "source": [
    "emotions = 'True, False'\n",
    "prompt = 'The moon landings were all faked.'\n",
    "emotion = gpt_classify_sentiment(prompt, emotions)\n",
    "print(f'{prompt} ====> {emotion.upper()}')\n",
    "\n",
    "prompt = 'The earth is flat.'\n",
    "emotion = gpt_classify_sentiment(prompt, emotions)\n",
    "print(f'{prompt} ====> {emotion.upper()}')\n",
    "\n",
    "prompt = 'Elvis Presley died in 1977.'\n",
    "emotion = gpt_classify_sentiment(prompt, emotions)\n",
    "print(f'{prompt} ====> {emotion.upper()}')\n",
    "\n",
    "prompt = 'Quantum entanglement has been experimentally demonstrated with photons, electrons, and other particles.'\n",
    "emotion = gpt_classify_sentiment(prompt, emotions)\n",
    "print(f'{prompt} ====> {emotion.upper()}')"
   ]
  },
  {
   "cell_type": "code",
   "execution_count": null,
   "id": "a9d0662f",
   "metadata": {},
   "outputs": [],
   "source": []
  },
  {
   "cell_type": "code",
   "execution_count": null,
   "id": "472a357a",
   "metadata": {},
   "outputs": [],
   "source": []
  },
  {
   "cell_type": "code",
   "execution_count": null,
   "id": "92852860",
   "metadata": {},
   "outputs": [],
   "source": []
  },
  {
   "cell_type": "code",
   "execution_count": null,
   "id": "684bf8df",
   "metadata": {},
   "outputs": [],
   "source": []
  }
 ],
 "metadata": {
  "kernelspec": {
   "display_name": "Python 3 (ipykernel)",
   "language": "python",
   "name": "python3"
  },
  "language_info": {
   "codemirror_mode": {
    "name": "ipython",
    "version": 3
   },
   "file_extension": ".py",
   "mimetype": "text/x-python",
   "name": "python",
   "nbconvert_exporter": "python",
   "pygments_lexer": "ipython3",
   "version": "3.10.5"
  }
 },
 "nbformat": 4,
 "nbformat_minor": 5
}
