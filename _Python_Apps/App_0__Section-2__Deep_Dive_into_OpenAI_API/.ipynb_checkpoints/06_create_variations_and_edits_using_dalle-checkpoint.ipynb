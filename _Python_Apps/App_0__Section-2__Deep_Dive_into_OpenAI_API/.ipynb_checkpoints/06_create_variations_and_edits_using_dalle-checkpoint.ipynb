{
 "cells": [
  {
   "cell_type": "code",
   "execution_count": 1,
   "id": "d0b6dbce",
   "metadata": {},
   "outputs": [],
   "source": [
    "import openai\n",
    "import os\n",
    "\n",
    "openai.api_key = os.getenv('OPENAI_CLASS_API_KEY')\n",
    "\n",
    "image = open('original.png', 'rb')\n",
    "response = openai.Image.create_variation(\n",
    "    image=image,\n",
    "    n=1,\n",
    "    size='1024x1024'\n",
    ")\n",
    "\n",
    "image_url = response['data'][0]['url']"
   ]
  },
  {
   "cell_type": "markdown",
   "id": "13b4beff",
   "metadata": {},
   "source": [
    "## Edit Images"
   ]
  },
  {
   "cell_type": "code",
   "execution_count": null,
   "id": "500e2539",
   "metadata": {},
   "outputs": [],
   "source": [
    "image = open('motorcycle_original.png', 'rb')\n",
    "mask = open('mask.png', 'rb')\n",
    "response = openai.Image.create_edit(\n",
    "    image=image,\n",
    "    mask=mask,\n",
    "    prompt='John Wick riding a motorcycle on an apocalyptic field containing a big red moon \\\n",
    "    with a cyberpunk look, high quality photography',\n",
    "    n=1,\n",
    "    size='1024x1024'\n",
    ")\n",
    "\n",
    "image_url = response['data'][0]['url']\n",
    "print(image_url)"
   ]
  },
  {
   "cell_type": "code",
   "execution_count": null,
   "id": "ad936354",
   "metadata": {},
   "outputs": [],
   "source": []
  },
  {
   "cell_type": "code",
   "execution_count": null,
   "id": "636faebf",
   "metadata": {},
   "outputs": [],
   "source": []
  }
 ],
 "metadata": {
  "kernelspec": {
   "display_name": "Python 3 (ipykernel)",
   "language": "python",
   "name": "python3"
  },
  "language_info": {
   "codemirror_mode": {
    "name": "ipython",
    "version": 3
   },
   "file_extension": ".py",
   "mimetype": "text/x-python",
   "name": "python",
   "nbconvert_exporter": "python",
   "pygments_lexer": "ipython3",
   "version": "3.10.5"
  }
 },
 "nbformat": 4,
 "nbformat_minor": 5
}
