{
 "cells": [
  {
   "cell_type": "code",
   "execution_count": 4,
   "id": "0d0e5291",
   "metadata": {},
   "outputs": [],
   "source": [
    "# !pip install -q openai\n",
    "import openai\n",
    "import os"
   ]
  },
  {
   "cell_type": "code",
   "execution_count": 5,
   "id": "1e230fa5",
   "metadata": {},
   "outputs": [],
   "source": [
    "openai.api_key = os.getenv('OPENAI_CLASS_API_KEY')"
   ]
  },
  {
   "cell_type": "code",
   "execution_count": 29,
   "id": "6c443746",
   "metadata": {},
   "outputs": [
    {
     "name": "stdout",
     "output_type": "stream",
     "text": [
      "Sure! Here is an example of a SELECT SQL query:\n",
      "\n",
      "```\n",
      "SELECT column1, column2\n",
      "FROM table_name\n",
      "WHERE condition\n"
     ]
    }
   ],
   "source": [
    "#system_role_content = 'You explain concepts in-depth using simple terms and you give examples\\\n",
    "#to help people learn.  At the end of each explanation, you ask a question to check for understanding.'\n",
    "\n",
    "#system_role_content = 'You are a concise assistent.  You reply briefly, with no explanation.'\n",
    "\n",
    "system_role_content = 'You reply in the style of the character Yoda from Star Wars.'\n",
    "prompt = 'Explain Object Oriented Programming with Python.'\n",
    "messages = [\n",
    "    {'role': 'system', 'content': system_role_content},\n",
    "    {'role': 'user', 'content': prompt}\n",
    "]\n",
    "# roles => system, user, assistant\n",
    "\n",
    "response = openai.ChatCompletion.create(\n",
    "    model='gpt-3.5-turbo',\n",
    "    messages=messages,\n",
    "    temperature=0, # between 0 and 2, default 1\n",
    "    # top_p=1, # default 1\n",
    "    max_tokens=2048, # default 4096\n",
    "    # n=1, # default 1\n",
    "    # stop=';'\n",
    ")\n",
    "\n",
    "print(response['choices'][0].message.content)"
   ]
  },
  {
   "cell_type": "code",
   "execution_count": null,
   "id": "bd84895a",
   "metadata": {},
   "outputs": [],
   "source": []
  },
  {
   "cell_type": "code",
   "execution_count": null,
   "id": "c6762f11",
   "metadata": {},
   "outputs": [],
   "source": []
  },
  {
   "cell_type": "code",
   "execution_count": null,
   "id": "fc6f1143",
   "metadata": {},
   "outputs": [],
   "source": []
  }
 ],
 "metadata": {
  "kernelspec": {
   "display_name": "Python 3 (ipykernel)",
   "language": "python",
   "name": "python3"
  },
  "language_info": {
   "codemirror_mode": {
    "name": "ipython",
    "version": 3
   },
   "file_extension": ".py",
   "mimetype": "text/x-python",
   "name": "python",
   "nbconvert_exporter": "python",
   "pygments_lexer": "ipython3",
   "version": "3.10.5"
  }
 },
 "nbformat": 4,
 "nbformat_minor": 5
}
